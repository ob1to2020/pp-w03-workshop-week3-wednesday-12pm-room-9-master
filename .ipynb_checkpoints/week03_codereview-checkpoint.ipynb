{
 "cells": [
  {
   "cell_type": "markdown",
   "metadata": {},
   "source": [
    "# Week 3 workshop: Code review"
   ]
  },
  {
   "cell_type": "markdown",
   "metadata": {},
   "source": [
    "A programmer rarely works alone -- they usually contribute code to a larger project, as part of a team with other programmers or collaborators. This means that their code should be straightforward to understand and to (re-)use, efficient, and free of bugs. For consistency across a project, the code should also respect the style conventions adopted by the team.\n",
    "\n",
    "Being part of a team means that collaborators can **peer-review** each other's code. This is also a widespread practice in the professional world. It helps to catch errors and inconsistencies before releasing a program, and it also allows team members to **learn** from each other and improve their practice.\n",
    "\n",
    "### Your task:\n",
    "\n",
    "A colleague has been asked to write a program that evaluates the $m$-th derivative of a given polynomial at a given point, as described in the following brief.\n",
    "\n",
    "Your task is to **review the code** written by your colleague, **not** to write Python code to solve the problem brief, and **not** to write your own, \"better\" version of the code. Instead, you should give **useful feedback** to your colleague to help them fix and improve their code.\n",
    "\n",
    "A code review is **not exclusively negative feedback** -- if something was done well, you should also point it out and give some **positive comments**. Remember, an important goal of code review is to help your colleague improve; whether your feedback is positive or negative, it should **always be constructive**.\n",
    "\n",
    "### During the workshop\n",
    "\n",
    "During the workshop, in each breakout room, there will be 3-4 students. As a group, you should discuss the points above (and any other comments you have about this code). The group must designate **one person** at the start of the workshop to **take notes** for the group. It is probably easiest to take the notes **on this notebook**, in the Markdown cells at the end of the notebook.\n",
    "\n",
    "If you are the **note-taker**:\n",
    "1. First, **clone this repo** on their computer, **share your screen**, and edit this notebook to add the group's notes throughout the workshop.\n",
    "    - **Refer to line numbers** when you comment on a specific part of the code: \"On line X, ...\". In Jupyter, click View > Toggle line numbers to see the line numbers.\n",
    "    - You can keep your notes short/abbreviated during the workshop, just to keep a record of what you discussed. You will be able to write nicer sentences when you submit the assessment later.\n",
    "    - They can also run the code and print output at different stages, for example, to help the group understand how the code works.\n",
    "    \n",
    "    \n",
    "2. Then, at the end of the workshop, they should **save their changes** to the notebook, by clicking the \"Save and Checkpoint\" button in the icon bar at the top of the notebook, or clicking File > Save and Checkpoint\" in the menu bar just above, with the notebook open. Once the changes have been saved, click File > Close and Halt to close the notebook properly.\n",
    "\n",
    "\n",
    "3. Then, they should go back to Atom/VSCode/other to stage, commit, and **push** the edited notebook back to the GitHub repo, **so that the other team members can consult the notes later**. If you are having issues with this, please let us know immediately.\n",
    "\n",
    "### After the workshop\n",
    "\n",
    "After the workshop is finished, all team members will be able to consult the group's notes on this notebook in the GitHub repo. **All students must then submit an individual code review** on Learn -- this is at the same place as the quizzes. You can use your group's notes to help you write your own code review.\n",
    "\n",
    "You will see 2 links there: one for students on the Wednesday workshop, and one for students on the Friday workshop. You only have to submit 1 -- **make sure you click the correct link** corresponding to your workshop day. More instructions are provided there, as well as the deadlines to submit your code review and your assessment. In summary:\n",
    "\n",
    "- If your workshop is on Wednesday, submit your code review by **Thursday evening**.\n",
    "- If your workshop is on Friday, submit your code review by **Saturday evening**.\n",
    "\n",
    "*After this*, go back to the same assignment -- you will now have 3 other submissions to assess, using a short questionnaire.\n",
    "\n",
    "- If your workshop is on Wednesday, complete the 3 assessments by next **Tuesday evening**.\n",
    "- If your workshop is on Friday, complete the 3 assessments by next **Thursday evening**.\n",
    "\n",
    "It will not be possible to submit your code review or to complete your assessments after the deadlines.\n",
    "\n",
    "---\n",
    "## Brief\n",
    "\n",
    "This is the task given to your colleague:\n",
    "\n",
    "> A polynomial $p(x)$ of degree $n$ can be written as\n",
    ">\n",
    "> $$ p(x) = a_n x^n + a_{n-1} x^{n-1} + .. a_1 x + a_0, \\quad \\text{with } a_n \\neq 0.$$\n",
    ">\n",
    "> We can fully specify $p(x)$ in Python with a list `a` of length $n+1$, representing the polynomial coefficients $a_i, i = 0, 1, \\dots, n$.\n",
    ">\n",
    "> Find a way to evaluate the $m$th order derivative of a polynomial $p(x)$ at a given point $x = x_0$, given $m \\in \\mathbb{N}$ and a list $[a_n, a_{n-1}, \\dots, a_0]$ of the polynomial coefficients of $p(x)$. In other words, compute\n",
    ">\n",
    "> $$\\left.\\frac{d^m p}{dx^m} \\right|_{x = x_0}$$\n",
    ">\n",
    "> Note that the coefficients are given with the coefficient $a_n$ for the degree $n$ term first.\n",
    ">\n",
    "> For example, for $p(x) = x^2 - 3x + 1$, $m = 1$, and $x_0 = 5$, you should obtain\n",
    ">\n",
    "> $$\\left.\\frac{dp}{dx}\\right|_{x = 5} = p^\\prime(5) = 2\\times 5 - 3 = -7.$$\n",
    ">\n",
    "> Recall that you can compute the $m$th order derivative of $x^i$ as\n",
    ">\n",
    "> $$ \\frac{d^m}{d x^m} x^i = \\begin{cases}\n",
    "i(i-1)(i-2)...\\left(i-(m-1)\\right) x^{i-m} \\quad & \\text{if } m \\leq i, \\\\\n",
    "0 \\quad & \\text{otherwise.}\n",
    "\\end{cases}$$\n",
    ">\n",
    "> You must include **all** the tests you have performed to check your code.\n",
    "\n",
    "---\n",
    "### Your colleague's code"
   ]
  },
  {
   "cell_type": "code",
   "execution_count": 5,
   "metadata": {
    "scrolled": true
   },
   "outputs": [
    {
     "name": "stdout",
     "output_type": "stream",
     "text": [
      "3 0\n",
      "3 1\n",
      "2 0\n",
      "2 1\n",
      "1 0\n",
      "1 1\n",
      "0 0\n",
      "0 1\n",
      "[24.0, 0, 0, 0]\n",
      "None\n"
     ]
    }
   ],
   "source": [
    "def take_derivative(A,m,X_0):\n",
    "# loop over each\n",
    "    N = len(A)\n",
    "    derA = [1]*N\n",
    "    for k in range(0,N):\n",
    "      #get i from k since we start from a_n\n",
    "        i = N-k- 1\n",
    "        if i >= m:\n",
    "            derA[k] = A[k]*X_0**(i-m)\n",
    "        else:\n",
    "            derA[k] = 0\n",
    "#       print(A[k],k,derA[k])\n",
    "        for j in range(0,m-1):#multiply\n",
    "              print(i, j)\n",
    "              derA[k] *= (i-j)\n",
    "    print(derA)\n",
    "\n",
    "#polynomial 4x^3+7x^2+3x+3        \n",
    "A   =[4, 7,3, 3]  \n",
    "# test the first derivative for x_0=0\n",
    "# expected value 3\n",
    "print(take_derivative(A,3,0.)) "
   ]
  },
  {
   "cell_type": "markdown",
   "metadata": {},
   "source": [
    "---\n",
    "## Your review\n",
    "\n",
    "To get you started, here are some questions you could address:\n",
    "\n",
    "- **The computation**: does the code fulfill the requirements set out in the brief?\n",
    "    - Does it work as intended and produce the correct results? If not, what would you suggest your colleague could do to find and fix errors?\n",
    "    - Are these tests appropriate and sufficient? If not, what other tests would you suggest to make sure that the program works for any valid input?\n",
    "- **Code structure**: Your colleague was not explicitly told how to structure their code -- for example, the brief does not specify to write a script or a function, or to use any specific data structures (beyond the list of coefficients).\n",
    "    - Do you think it was a good choice to write a function? to use these specific input arguments, and return this specific output value? Why/why not?\n",
    "    - What can you say about the use of a list `derA`? Would you have done this differently? Why/why not?\n",
    "- **Code style**: Is the code easy to read and understand?\n",
    "    - Are there enough/too many code comments? Are they helpful to understand the different steps in the code?\n",
    "    - If there are functions, do they have an appropriate docstring?\n",
    "    - Are the variable and function names appropriate and easy to understand? Is it clear what each variable corresponds to?\n",
    "    - Is the code clearly and concisely written, and easy to read? If not, what could be improved?\n",
    "\n",
    "Note that you can also add other review comments if you wish, on other aspects than those suggested in these prompts."
   ]
  },
  {
   "cell_type": "markdown",
   "metadata": {},
   "source": [
    "---\n",
    "### Write your notes and comments here\n",
    "\n",
    "**Double-click on each question** to edit the Markdown cell and add your notes. When you are done, **run the cell** (<kbd>Ctrl</kbd>+<kbd>Enter</kbd> or <kbd>Cmd</kbd>+<kbd>Enter</kbd>)to display the text. You don't have to do these in order, or to write something for every single question -- for example, if you feel that one aspect is more important, you can spend more time discussing that."
   ]
  },
  {
   "cell_type": "markdown",
   "metadata": {},
   "source": [
    "#### The computation\n",
    "\n",
    "Is the code correct?\n",
    "\n",
    "The function is missing the 'return'.\n",
    "zixu's review : we expected return a real number but it return a list, though the computation is correct.\n",
    "\n",
    "\n",
    "\n",
    "Are the tests suitable?\n",
    "zixu's review : yes the test is correct \n",
    "\n",
    "\n",
    "\n",
    "\n"
   ]
  },
  {
   "cell_type": "markdown",
   "metadata": {},
   "source": [
    "#### Code structure\n",
    "\n",
    "Is this code well-structured? Do you have any comments about the use of functions, loops, lists..?\n",
    "\n",
    "line 22 - c0. should write 0 instead 0.\n",
    "\n",
    "zixu's review : line 12 seems like a test code, it can be delete or if you want keep, need to add comment.\n",
    "           line 14 seems a test code,too. it is unnecessary, and we don't need to print that.\n",
    "           \n",
    "\n"
   ]
  },
  {
   "cell_type": "markdown",
   "metadata": {},
   "source": [
    "#### Code style\n",
    "\n",
    "Is the code easily readable and understandable? Why/why not? How could it be improved?\n",
    "\n",
    "identify what is the type of the variable using docstring. for example: identify what A is.\n",
    "\n",
    "A suggestion would be reversing the range in order to avoid starting from 0,N and including the code i = N-k-1.\n",
    "\n",
    "\n",
    "Is the code well-documented (are there enough informative code comments, docstrings...)?\n",
    "\n",
    "The docstrings are somewhat unclear; for example: what is a_n. Additionally, it is mentioned that the expected value is 3 while the code returned a list. \n",
    "\n",
    "\n",
    "\n",
    "Are the code and the displayed results well-presented and easy to parse?\n",
    "\n",
    "It would be clearer to return a value, rather than a list, since the derivative is being evaluated at some x. \n",
    "\n",
    "\n",
    "Are the variable and function names appropriate?\n",
    "\n",
    "\n",
    "\n"
   ]
  },
  {
   "cell_type": "markdown",
   "metadata": {},
   "source": [
    "#### Any other comments?\n",
    "\n",
    "\n"
   ]
  }
 ],
 "metadata": {
  "kernelspec": {
   "display_name": "Python 3",
   "language": "python",
   "name": "python3"
  },
  "language_info": {
   "codemirror_mode": {
    "name": "ipython",
    "version": 3
   },
   "file_extension": ".py",
   "mimetype": "text/x-python",
   "name": "python",
   "nbconvert_exporter": "python",
   "pygments_lexer": "ipython3",
   "version": "3.8.3"
  }
 },
 "nbformat": 4,
 "nbformat_minor": 4
}
